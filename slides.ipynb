{
 "cells": [
  {
   "cell_type": "markdown",
   "metadata": {
    "slideshow": {
     "slide_type": "slide"
    }
   },
   "source": [
    "# Potencializando o impacto da área de dados com ferramentas open source \n",
    "**Fernando Paiva (Fundação Lemann)**\n",
    "\n",
    "13 Dezembro, QEdu Tech Day\n",
    "\n",
    "São Paulo"
   ]
  },
  {
   "cell_type": "markdown",
   "metadata": {
    "slideshow": {
     "slide_type": "slide"
    }
   },
   "source": [
    "# \"Is data the new coal?\" \n",
    "\n",
    "<img align=\"center\" height=\"50\" src=\"images/data_is_the_new_coal.jpg\"></img>\n",
    "\n",
    "## Porque dados\n",
    "- tomada de decisão baseada em evidencias\n",
    "- estruturar processos de gestão de informação\n",
    "\n",
    "[Why data is the new coal, The Guardian](https://www.theguardian.com/technology/2016/sep/27/data-efficiency-deep-learning)"
   ]
  },
  {
   "cell_type": "markdown",
   "metadata": {
    "slideshow": {
     "slide_type": "slide"
    }
   },
   "source": [
    "# Desafios\n",
    "* Como organizar as automações necessarias para o fluxo de dados?\n",
    "* Como tornar o acesso a informação simples e rápido?"
   ]
  },
  {
   "cell_type": "markdown",
   "metadata": {
    "slideshow": {
     "slide_type": "slide"
    }
   },
   "source": [
    "# Esta apresentação\n",
    "* O que? *Tornar o trabalho com dados mais eficiente*\n",
    "* Como? *Adoção de ferramentas open source para automação de workflows e visualização de dados*"
   ]
  },
  {
   "cell_type": "markdown",
   "metadata": {
    "slideshow": {
     "slide_type": "fragment"
    }
   },
   "source": [
    "## Não vamos falar de:\n",
    "- gestão da informação\n",
    "- modelagem de dados\n",
    "- design de visualizações de dados\n",
    "\n",
    "**Lembrete:** apesar de estarmos focando em ferramentas o mais importante são as peguntas respondidas pelos dados"
   ]
  },
  {
   "cell_type": "markdown",
   "metadata": {
    "slideshow": {
     "slide_type": "slide"
    }
   },
   "source": [
    "\n",
    "## Porque open source\n",
    "- gratuito"
   ]
  },
  {
   "cell_type": "markdown",
   "metadata": {
    "slideshow": {
     "slide_type": "fragment"
    }
   },
   "source": [
    "### Mas também...\n",
    "- transparente / aberto\n",
    "- possibilita experimentação com baixo custo e agilidade\n",
    "- promove troca de conhecimento\n",
    "- customizável"
   ]
  },
  {
   "cell_type": "markdown",
   "metadata": {
    "slideshow": {
     "slide_type": "slide"
    }
   },
   "source": [
    "# Arquitetura de Dados\n",
    "\n",
    "<img align=\"center\" src=\"images/arquitetura.png\"></img>"
   ]
  },
  {
   "cell_type": "markdown",
   "metadata": {
    "slideshow": {
     "slide_type": "slide"
    }
   },
   "source": [
    "# Ferramentas Open Source\n",
    "\n",
    "<img align=\"center\" src=\"images/arquitetura_com_ferramentas.png\"></img>"
   ]
  },
  {
   "cell_type": "markdown",
   "metadata": {
    "collapsed": true,
    "slideshow": {
     "slide_type": "slide"
    }
   },
   "source": [
    "# Gerindo fluxos de dados\n",
    "Ferramenta: Airflow\n",
    "\n",
    "Iniciado por: Maxime Beauchemin (Airbnb) aprox em Outubro de 2014\n",
    "\n",
    "Repo: https://airflow.incubator.apache.org/"
   ]
  },
  {
   "cell_type": "markdown",
   "metadata": {
    "slideshow": {
     "slide_type": "slide"
    }
   },
   "source": [
    "# Airflow\n",
    "\n",
    "### *\"Uma ferramenta para i) descrever, ii) exucutar e iii) monitorar fluxos de trabalho com dados.\"*"
   ]
  },
  {
   "cell_type": "markdown",
   "metadata": {
    "slideshow": {
     "slide_type": "slide"
    }
   },
   "source": [
    "# Airflow\n",
    "### i) descrevendo fluxos de trabalho\n",
    "\n",
    "<img align=\"center\" src=\"images/airflow_graph_500.png\"></img>"
   ]
  },
  {
   "cell_type": "markdown",
   "metadata": {
    "slideshow": {
     "slide_type": "slide"
    }
   },
   "source": [
    "# Airflow\n",
    "### ii) executando fluxos de trabalho"
   ]
  },
  {
   "cell_type": "markdown",
   "metadata": {
    "slideshow": {
     "slide_type": "slide"
    }
   },
   "source": [
    "# Airflow\n",
    "### iii) monitorando fluxos de trabalho"
   ]
  },
  {
   "cell_type": "markdown",
   "metadata": {
    "slideshow": {
     "slide_type": "slide"
    }
   },
   "source": [
    "# Visualizando Dados\n",
    "Ferramenta: Redash\n",
    "\n",
    "Iniciado por: Arik (EverythingMe)\n",
    "\n",
    "Repo: https://github.com/getredash/redash"
   ]
  },
  {
   "cell_type": "markdown",
   "metadata": {
    "slideshow": {
     "slide_type": "slide"
    }
   },
   "source": [
    "# Redash\n",
    "### *\"Uma ferramenta para i) descrever, ii) exucutar e iii) monitorar fluxos de trabalho com dados.\"*"
   ]
  },
  {
   "cell_type": "markdown",
   "metadata": {
    "collapsed": true,
    "slideshow": {
     "slide_type": "slide"
    }
   },
   "source": [
    "# Obrigado\n",
    "\n",
    "Slides disponíveis em: https://fernandosjp.github.io/apresentacao-qedu-tech-day/"
   ]
  }
 ],
 "metadata": {
  "anaconda-cloud": {},
  "celltoolbar": "Slideshow",
  "kernelspec": {
   "display_name": "Python [Root]",
   "language": "python",
   "name": "Python [Root]"
  },
  "language_info": {
   "codemirror_mode": {
    "name": "ipython",
    "version": 2
   },
   "file_extension": ".py",
   "mimetype": "text/x-python",
   "name": "python",
   "nbconvert_exporter": "python",
   "pygments_lexer": "ipython2",
   "version": "2.7.11"
  }
 },
 "nbformat": 4,
 "nbformat_minor": 2
}
