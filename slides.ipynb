{
 "cells": [
  {
   "cell_type": "markdown",
   "metadata": {
    "slideshow": {
     "slide_type": "slide"
    }
   },
   "source": [
    "# Usando ferramentas open source em área de dados\n",
    "**Fernando Paiva (Fundação Lemann)**\n",
    "\n",
    "13 Dezembro, QEdu Tech Day\n",
    "\n",
    "São Paulo"
   ]
  },
  {
   "cell_type": "markdown",
   "metadata": {
    "slideshow": {
     "slide_type": "slide"
    }
   },
   "source": [
    "# \"Is data the new coal?\" \n",
    "\n",
    "<img align=\"center\" height= src=\"images/data-is-the-new-coal.jpg\"></img>\n",
    "\n",
    "## Porque dados\n",
    "- tomada de decisão baseada em evidencias\n",
    "- estruturar processos de gestão de informação\n",
    "\n",
    "[Why data is the new coal, The Guardian](https://www.theguardian.com/technology/2016/sep/27/data-efficiency-deep-learning)"
   ]
  },
  {
   "cell_type": "markdown",
   "metadata": {
    "slideshow": {
     "slide_type": "slide"
    }
   },
   "source": [
    "# Esta apresentação\n",
    "* O que? Tornar o trabalho com dados mais eficiente\n",
    "* Como? Adoção de ferramentas open source para automação de workflows e visualização de dados"
   ]
  },
  {
   "cell_type": "markdown",
   "metadata": {
    "slideshow": {
     "slide_type": "fragment"
    }
   },
   "source": [
    "## Lembretes\n",
    "- o foco não será em gestão da informaçao\n",
    "- o foco não será em efetividade de visualizações de dados\n",
    "- mais importante nao sao as ferramentas"
   ]
  },
  {
   "cell_type": "markdown",
   "metadata": {
    "slideshow": {
     "slide_type": "slide"
    }
   },
   "source": [
    "\n",
    "## Porque open source\n",
    "- gratuito"
   ]
  },
  {
   "cell_type": "markdown",
   "metadata": {
    "slideshow": {
     "slide_type": "fragment"
    }
   },
   "source": [
    "- transparente\n",
    "- customizavel\n",
    "- aberto / liberdade de uso\n",
    "- possibilidade de experimentar com baixo custo e agilidade\n",
    "- conhecimento"
   ]
  },
  {
   "cell_type": "markdown",
   "metadata": {
    "slideshow": {
     "slide_type": "slide"
    }
   },
   "source": [
    "# Fluxo dos dados"
   ]
  },
  {
   "cell_type": "markdown",
   "metadata": {
    "collapsed": true,
    "slideshow": {
     "slide_type": "slide"
    }
   },
   "source": [
    "# Gerindo fluxos de dados\n",
    "Ferramenta: Airflow\n",
    "\n",
    "Iniciado por: Maxime (Airbnb)\n",
    "\n",
    "Repo: https://airflow.incubator.apache.org/"
   ]
  },
  {
   "cell_type": "markdown",
   "metadata": {
    "slideshow": {
     "slide_type": "slide"
    }
   },
   "source": [
    "# Airflow\n",
    "\n",
    "Trabalhar com workflows de dados.\n",
    "\n",
    "1. Descrever\n",
    "1. Executar\n",
    "1. Monitorar"
   ]
  },
  {
   "cell_type": "markdown",
   "metadata": {
    "slideshow": {
     "slide_type": "slide"
    }
   },
   "source": [
    "# Visualizando Dados\n",
    "Ferramenta: Redash\n",
    "\n",
    "Iniciado por: Arik (EverythingMe)\n",
    "\n",
    "Repo: https://github.com/getredash/redash"
   ]
  },
  {
   "cell_type": "markdown",
   "metadata": {
    "slideshow": {
     "slide_type": "slide"
    }
   },
   "source": [
    "# Redash\n",
    "Compartilhameto da informação"
   ]
  },
  {
   "cell_type": "markdown",
   "metadata": {
    "collapsed": true,
    "slideshow": {
     "slide_type": "slide"
    }
   },
   "source": [
    "# Obrigado\n",
    "\n",
    "Slides disponiveis em: https://fernandosjp.github.io/apresentacao-qedu-tech-day/"
   ]
  }
 ],
 "metadata": {
  "anaconda-cloud": {},
  "celltoolbar": "Slideshow",
  "kernelspec": {
   "display_name": "Python [Root]",
   "language": "python",
   "name": "Python [Root]"
  },
  "language_info": {
   "codemirror_mode": {
    "name": "ipython",
    "version": 2
   },
   "file_extension": ".py",
   "mimetype": "text/x-python",
   "name": "python",
   "nbconvert_exporter": "python",
   "pygments_lexer": "ipython2",
   "version": "2.7.11"
  }
 },
 "nbformat": 4,
 "nbformat_minor": 2
}
